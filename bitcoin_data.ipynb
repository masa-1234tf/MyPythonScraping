{
 "cells": [
  {
   "cell_type": "code",
   "execution_count": 80,
   "metadata": {},
   "outputs": [],
   "source": [
    "from selenium import webdriver\n",
    "from time import sleep\n",
    "import time\n",
    "from bs4 import BeautifulSoup\n",
    "import pandas as pd\n",
    "import matplotlib.pyplot as plt\n"
   ]
  },
  {
   "cell_type": "code",
   "execution_count": 81,
   "metadata": {},
   "outputs": [],
   "source": [
    "# driver　作成\n",
    "options = webdriver.ChromeOptions()\n",
    "options.add_argument(\"--incognito\")\n",
    "driver = webdriver.Chrome(executable_path=\"./tools/chromedriver.exe\",\n",
    "                          options=options)\n",
    "driver.implicitly_wait(8)\n",
    "# drive.get()でサイトにアクセスする\n",
    "driver.get(\n",
    "    'https://coinmarketcap.com/currencies/bitcoin/historical-data/?start=20130428&end=')\n",
    "sleep(3)\n",
    "i=0\n",
    "while i <= 5:\n",
    "    # スクロール\n",
    "    driver.execute_script(\n",
    "        \"0,window.scrollBy(0,document.body.scrollHeight)\")\n",
    "    sleep(2)\n",
    "    driver.execute_script(\n",
    "        \"0,window.scrollBy(0,document.body.scrollHeight)\")\n",
    "    # CSSセレクタ取得\n",
    "    button = driver.find_element_by_css_selector(\"p > .DChGS\")\n",
    "    sleep(3)\n",
    "    # ボタンを押す\n",
    "    if button:\n",
    "        button.click()\n",
    "    else:\n",
    "        break\n",
    "    i = i + 1\n"
   ]
  },
  {
   "cell_type": "code",
   "execution_count": 82,
   "metadata": {},
   "outputs": [
    {
     "name": "stdout",
     "output_type": "stream",
     "text": [
      "             Date      Open\n",
      "0    Aug 02, 2022  23308.43\n",
      "1    Aug 01, 2022  23336.72\n",
      "2    Jul 31, 2022  23652.07\n",
      "3    Jul 30, 2022  23796.82\n",
      "4    Jul 29, 2022  23845.21\n",
      "..            ...       ...\n",
      "207  Jan 07, 2022  43153.57\n",
      "208  Jan 06, 2022  43565.51\n",
      "209  Jan 05, 2022  45899.36\n",
      "210  Jan 04, 2022  46458.85\n",
      "211  Jan 03, 2022  47343.54\n",
      "\n",
      "[212 rows x 2 columns]\n"
     ]
    }
   ],
   "source": [
    "soup = BeautifulSoup(driver.page_source, \"lxml\")\n",
    "table = soup.find(\"table\", class_=\"h7vnx2-2 hLKazY cmc-table\")\n",
    "rows = table.find_all(\"tr\")\n",
    "counter = []\n",
    "data_list = []\n",
    "data_list_open_price = []\n",
    "for tr in rows[1:]:  # 最初の行を飛ばしてfor文で回す\n",
    "    r = []  # 保存先の行\n",
    "    for td in tr.find_all('td'):  # tdタグを走査する\n",
    "        r.append(td.text)\n",
    "    data_list_open_price.append(r[1].replace('$', '').replace(',', ''))\n",
    "    data_list.append({\n",
    "        \"Date\": r[0],\n",
    "        \"Open\": r[1].replace('$', '').replace(',', '')\n",
    "    })\n",
    "df = pd.DataFrame(data_list)\n",
    "print(df)\n"
   ]
  },
  {
   "cell_type": "code",
   "execution_count": 87,
   "metadata": {},
   "outputs": [
    {
     "ename": "TypeError",
     "evalue": "'int' object is not iterable",
     "output_type": "error",
     "traceback": [
      "\u001b[1;31m---------------------------------------------------------------------------\u001b[0m",
      "\u001b[1;31mTypeError\u001b[0m                                 Traceback (most recent call last)",
      "\u001b[1;32mセル4 を c:\\Users\\death\\Desktop\\ScrapingPython\\MyPythonScraping\\bitcoin_data.ipynb\u001b[0m in \u001b[0;36m<cell line: 7>\u001b[1;34m()\u001b[0m\n\u001b[0;32m      <a href='vscode-notebook-cell:/c%3A/Users/death/Desktop/ScrapingPython/MyPythonScraping/bitcoin_data.ipynb#ch0000003?line=4'>5</a>\u001b[0m     y\u001b[39m.\u001b[39mappend(i)\n\u001b[0;32m      <a href='vscode-notebook-cell:/c%3A/Users/death/Desktop/ScrapingPython/MyPythonScraping/bitcoin_data.ipynb#ch0000003?line=5'>6</a>\u001b[0m     \u001b[39m#print(i)\u001b[39;00m\n\u001b[1;32m----> <a href='vscode-notebook-cell:/c%3A/Users/death/Desktop/ScrapingPython/MyPythonScraping/bitcoin_data.ipynb#ch0000003?line=6'>7</a>\u001b[0m \u001b[39mfor\u001b[39;00m i \u001b[39min\u001b[39;00m \u001b[39mlen\u001b[39m(data_list_open_price):\n\u001b[0;32m      <a href='vscode-notebook-cell:/c%3A/Users/death/Desktop/ScrapingPython/MyPythonScraping/bitcoin_data.ipynb#ch0000003?line=7'>8</a>\u001b[0m     x \u001b[39m=\u001b[39m x\u001b[39m+\u001b[39m\u001b[39m1\u001b[39m\n\u001b[0;32m     <a href='vscode-notebook-cell:/c%3A/Users/death/Desktop/ScrapingPython/MyPythonScraping/bitcoin_data.ipynb#ch0000003?line=9'>10</a>\u001b[0m plt\u001b[39m.\u001b[39mgrid()\n",
      "\u001b[1;31mTypeError\u001b[0m: 'int' object is not iterable"
     ]
    },
    {
     "data": {
      "image/png": "[encoded data removed]",
      "text/plain": [
       "<Figure size 432x288 with 1 Axes>"
      ]
     },
     "metadata": {
      "needs_background": "light"
     },
     "output_type": "display_data"
    }
   ],
   "source": [
    "plt.grid()\n",
    "y = []\n",
    "x = []\n",
    "for i in list(map(float, data_list_open_price[::-1])):\n",
    "    y.append(i)\n",
    "    #print(i)\n",
    "for i in len(data_list_open_price):\n",
    "    x = x+1\n",
    "\n",
    "plt.grid()\n",
    "\n",
    "\n",
    "plt.bar(x,y)\n",
    "plt.show()\n",
    "\n",
    "\n"
   ]
  }
 ],
 "metadata": {
  "kernelspec": {
   "display_name": "Python 3.10.5 64-bit",
   "language": "python",
   "name": "python3"
  },
  "language_info": {
   "codemirror_mode": {
    "name": "ipython",
    "version": 3
   },
   "file_extension": ".py",
   "mimetype": "text/x-python",
   "name": "python",
   "nbconvert_exporter": "python",
   "pygments_lexer": "ipython3",
   "version": "3.10.6"
  },
  "orig_nbformat": 4,
  "vscode": {
   "interpreter": {
    "hash": "e858e0499f8b3c368e97842d711ae8f920d6683e11d891757ac465d92f95113d"
   }
  }
 },
 "nbformat": 4,
 "nbformat_minor": 2
}
